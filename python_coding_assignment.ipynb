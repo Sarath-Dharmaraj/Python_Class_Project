{
 "cells": [
  {
   "cell_type": "markdown",
   "id": "2a8be711-a386-407a-9185-8429b583fd00",
   "metadata": {},
   "source": [
    "# Fundamentals of Python programming Assignment for Certification\n",
    "---\n",
    "\n",
    "##### Name : Sarath D\n",
    "##### Branch : BCA\n",
    "##### Year : 2nd \n",
    "##### Campus : HCAS\n",
    "###"
   ]
  },
  {
   "cell_type": "markdown",
   "id": "c47e7c40-42cc-4c92-ae4b-a17f414ee7ef",
   "metadata": {},
   "source": [
    "---"
   ]
  },
  {
   "cell_type": "markdown",
   "id": "c6df7b15-aa15-45aa-9115-1efed50b3f88",
   "metadata": {},
   "source": [
    "### <ins>Section 1: Python Operators and Control Structures</ins> \n",
    "###"
   ]
  },
  {
   "cell_type": "markdown",
   "id": "dd7f4409-420c-40c5-a7c9-1acb98e0c6e2",
   "metadata": {},
   "source": [
    "**1. Question:** Write a Python program to calculate the sum of all numbers in a list using a for loop.\n",
    "\n",
    "   **Sample Input:** numbers = [1, 2, 3, 4, 5] <br>\n",
    "   **Sample Output:** 15"
   ]
  },
  {
   "cell_type": "code",
   "execution_count": 73,
   "id": "a83f44cd-a9ed-4581-b7ed-103cf52534eb",
   "metadata": {},
   "outputs": [
    {
     "name": "stdout",
     "output_type": "stream",
     "text": [
      "15\n"
     ]
    }
   ],
   "source": [
    "# Solution :\n",
    "\n",
    "numbers = [1,2,3,4,5]\n",
    "print(sum(numbers))"
   ]
  },
  {
   "cell_type": "markdown",
   "id": "8e1fd9c2-4464-4919-9a77-a408d17b0ca8",
   "metadata": {},
   "source": [
    "###"
   ]
  },
  {
   "cell_type": "markdown",
   "id": "ca30ab5a-85cc-45dc-b4bd-16611c54f19b",
   "metadata": {},
   "source": [
    "**2. Question:** What is the output of the following code?\n",
    "\n",
    "**Code:**\n",
    "\n",
    "x = 5 <br>\n",
    "y = 2<br>\n",
    "print(x ** y)<br>\n",
    "          \n",
    "**Sample Output:**\n",
    "\n",
    "25"
   ]
  },
  {
   "cell_type": "markdown",
   "id": "e7256383-b3fc-4768-8400-955bca28eb27",
   "metadata": {},
   "source": [
    "**Answer:** <br>\n",
    "25\n",
    "\n",
    "**Explaination:**<br> \n",
    "The double asterisk ** represent power in python. <br>\n",
    "The first number will get powered with the second number, so ( 5 power of 2) will be the output\n",
    "###"
   ]
  },
  {
   "cell_type": "markdown",
   "id": "23c2b04d-5909-4621-a397-0a81467cde59",
   "metadata": {},
   "source": [
    "**3. Question:** Write a Python program to check if a number is a palindrome using a while loop.\n",
    "\n",
    "**<u>Sample Input:</u>** num = 12321 <br>\n",
    "**<u>Sample Output:</u>** True\n"
   ]
  },
  {
   "cell_type": "code",
   "execution_count": 74,
   "id": "217f5085-78e7-4fa2-8284-14587b10e755",
   "metadata": {},
   "outputs": [
    {
     "name": "stdout",
     "output_type": "stream",
     "text": [
      "True\n"
     ]
    }
   ],
   "source": [
    "# Solution :\n",
    "\n",
    "num = 12321 \n",
    "duplicate = num \n",
    "container = '' \n",
    "\n",
    "while(duplicate>0): \n",
    "    container += str(duplicate%10)\n",
    "    duplicate = duplicate//10\n",
    "    \n",
    "print(\"True\" if num == int(container) else \"False\")"
   ]
  },
  {
   "cell_type": "markdown",
   "id": "a556d80b-1d1c-4bd0-a753-c5ee6b36f405",
   "metadata": {},
   "source": [
    "###"
   ]
  },
  {
   "cell_type": "markdown",
   "id": "3476236b-6d18-49fe-aa73-1912238cabc4",
   "metadata": {},
   "source": [
    "**4. Question:** What is the output of the following code?\n",
    "\n",
    "**Code:**\n",
    "\n",
    "fruits = ['apple', 'banana', 'cherry']<br>\n",
    "print(fruits[-1])\n",
    "\n",
    "**Sample Output:**\n",
    "\n",
    "cherry"
   ]
  },
  {
   "cell_type": "markdown",
   "id": "c7bac1f6-d89d-45de-91f5-6395a9808ba8",
   "metadata": {},
   "source": [
    "**Answer:**<br>\n",
    "cherry\n",
    "\n",
    "**Explaination:**<br>\n",
    "The [-1] index range will return the last element of the list.<br> So here in the above prorgam, the last element \"cheryy\" got printed\n",
    "###"
   ]
  },
  {
   "cell_type": "markdown",
   "id": "9a96259a-6e83-4600-805f-3c17f4faac90",
   "metadata": {},
   "source": [
    "**5. Question:** Write a Python program to calculate the average of all numbers in a list using a for loop.\n",
    "\n",
    "**Sample Input:** numbers = [1, 2, 3, 4, 5]<br>\n",
    " **Sample Output:** 3.0"
   ]
  },
  {
   "cell_type": "code",
   "execution_count": 75,
   "id": "69cf670d-f245-4f36-9bf9-b73163701d64",
   "metadata": {},
   "outputs": [
    {
     "name": "stdout",
     "output_type": "stream",
     "text": [
      "3.0\n"
     ]
    }
   ],
   "source": [
    "# Solution:\n",
    "\n",
    "numbers = [1,2,3,4,5]\n",
    "total = 0\n",
    "\n",
    "for i in numbers:\n",
    "    total += i\n",
    "    \n",
    "print(total/len(numbers))\n",
    "    "
   ]
  },
  {
   "cell_type": "markdown",
   "id": "3246a5c7-0b8d-4726-bf74-87b70c02e828",
   "metadata": {},
   "source": [
    "###"
   ]
  },
  {
   "cell_type": "markdown",
   "id": "2a230607-a89c-4182-8dc7-1845f1c41f7e",
   "metadata": {},
   "source": [
    "---"
   ]
  },
  {
   "cell_type": "markdown",
   "id": "c187afae-1491-4c35-86eb-6f4784797e36",
   "metadata": {},
   "source": [
    "### <ins>Section 2: Lists and Dictionaries</ins>\n",
    "###"
   ]
  },
  {
   "cell_type": "markdown",
   "id": "b792ee9f-b5dc-4253-9c0f-0f4ff71514fa",
   "metadata": {},
   "source": [
    "**6. Question:** Write a Python program to create a dictionary with student names as keys and their grades as values.\n",
    "\n",
    " **Sample Input:** students = ['John', 'Alice', 'Bob'], grades = [90, 85, 95] <br>\n",
    " **Sample Output:** {'John': 90, 'Alice': 85, 'Bob': 95}"
   ]
  },
  {
   "cell_type": "code",
   "execution_count": 77,
   "id": "f260279e-1e45-4912-8e3b-547ac2a941e5",
   "metadata": {},
   "outputs": [
    {
     "name": "stdout",
     "output_type": "stream",
     "text": [
      "{'John': 90, 'Alice': 85, 'Bob': 95}\n"
     ]
    }
   ],
   "source": [
    "# Solution :\n",
    "\n",
    "students = ['John', 'Alice', 'Bob']\n",
    "grades = [90, 85, 95]\n",
    "dictionary = {}\n",
    "\n",
    "for i in range(len(students)):\n",
    "    dictionary[students[i]] = grades[i] \n",
    "\n",
    "print(dictionary)"
   ]
  },
  {
   "cell_type": "markdown",
   "id": "50b6e662-c02e-4be4-9f84-375d52d1bcb4",
   "metadata": {},
   "source": [
    "###"
   ]
  },
  {
   "cell_type": "markdown",
   "id": "b8cf1a64-eeac-41de-af33-889823e11f42",
   "metadata": {},
   "source": [
    "**7. Question:** What is the output of the following code?\n",
    " \n",
    "**Code:**\n",
    "\n",
    " numbers = [1, 2, 3, 4, 5]<br>\n",
    " print(numbers[1:3])\n",
    " \n",
    "**Sample Output:** \n",
    "[2, 3]"
   ]
  },
  {
   "cell_type": "markdown",
   "id": "928596c7-4e12-4ec3-8534-3627e58f6fb8",
   "metadata": {},
   "source": [
    "**Answer:**<br>\n",
    "[2;3]\n",
    "\n",
    "**Explaination:**<br>\n",
    "The above program doing slicing. <br>\n",
    "Basically it will extract from one index to amother index. The 2 numbers inside the square bracket represeny the starting and endinf indices.<br>\n",
    "In the above program \"numbers[2,3\" represent the elements from index 1 to 3, so the reesult is [2,3].\n",
    "###"
   ]
  },
  {
   "cell_type": "markdown",
   "id": "4994e422-ae19-4dad-824b-8ae5a2e289a3",
   "metadata": {},
   "source": [
    "**8. Question:** Write a Python program to sort a list of numbers in ascending order using the sorted() function.\n",
    "\n",
    " **Sample Input:** numbers = [4, 2, 9, 6, 5]<br>\n",
    " **Sample Output:** [2, 4, 5, 6, 9]"
   ]
  },
  {
   "cell_type": "code",
   "execution_count": 78,
   "id": "66cb0cf3-4bb2-4144-8498-cff9add155f7",
   "metadata": {},
   "outputs": [
    {
     "name": "stdout",
     "output_type": "stream",
     "text": [
      "[2, 4, 5, 6, 9]\n"
     ]
    }
   ],
   "source": [
    "# Solution :\n",
    "\n",
    "numbers = [4,2,9,6,5]\n",
    "print(sorted(numbers))"
   ]
  },
  {
   "cell_type": "markdown",
   "id": "0ac41ffd-d5c8-47ee-82e6-7a71f372a80c",
   "metadata": {},
   "source": [
    "###"
   ]
  },
  {
   "cell_type": "markdown",
   "id": "b386d686-5604-4559-b925-27e50ba3bbd2",
   "metadata": {},
   "source": [
    "**9. Question:** What is the output of the following code?\n",
    "\n",
    "**Code:**\n",
    "\n",
    " fruits = {'apple': 5, 'banana': 10, 'cherry': 15}<br>\n",
    " print(fruits.get('banana'))\n",
    " \n",
    "**Sample Output:**\n",
    "\n",
    "10"
   ]
  },
  {
   "cell_type": "markdown",
   "id": "aa777928-3192-430f-a530-038d8eb0fbf8",
   "metadata": {},
   "source": [
    "**Answer:**<br>\n",
    "10\n",
    "\n",
    "**Explaination:**<br>\n",
    "In dictionary, the get() method will extract the value of the key mentioned in the paramater.<br>\n",
    "So, here in the above code the key named \"banana\" 's value \"10\" got extracted from the dictionary named \"fruits\" and displayed.\n",
    "###"
   ]
  },
  {
   "cell_type": "markdown",
   "id": "5be64c46-e95c-4e99-ba2c-c7ace146658c",
   "metadata": {},
   "source": [
    "**10. Question:** Write a Python program to create a list of squares of all numbers from 1 to 10 using a list comprehension.\n",
    "\n",
    " **Sample Output:** [1, 4, 9, 16, 25, 36, 49, 64, 81, 100]"
   ]
  },
  {
   "cell_type": "code",
   "execution_count": 79,
   "id": "719bdbe0-28e5-4127-a2b3-38814e2429b3",
   "metadata": {},
   "outputs": [
    {
     "name": "stdout",
     "output_type": "stream",
     "text": [
      "[1, 4, 9, 16, 25, 36, 49, 64, 81, 100]\n"
     ]
    }
   ],
   "source": [
    "# Solution :\n",
    "\n",
    "print([ x**2 for x in range(1,11) ])"
   ]
  },
  {
   "cell_type": "markdown",
   "id": "522497dc-5970-4d34-bb78-ac159afb3db8",
   "metadata": {},
   "source": [
    "###"
   ]
  },
  {
   "cell_type": "markdown",
   "id": "04e5a122-1900-42c6-9c66-925b019a9fe5",
   "metadata": {},
   "source": [
    "---"
   ]
  },
  {
   "cell_type": "markdown",
   "id": "5af0db74-7e41-4061-a5f9-1aa9c58d72c9",
   "metadata": {},
   "source": [
    "### <ins>Section 3: Advanced Topics</ins>\n",
    "###"
   ]
  },
  {
   "cell_type": "markdown",
   "id": "2e22b8cf-24e1-4836-b7a9-6f447c271e98",
   "metadata": {},
   "source": [
    "**11. Question:** Write a Python program to calculate the factorial of a number using recursion.\n",
    "\n",
    "**Sample Input:** num = 5<br>\n",
    "**Sample Output:** 120"
   ]
  },
  {
   "cell_type": "code",
   "execution_count": 80,
   "id": "253f0453-859f-421e-a5c4-384558f9254c",
   "metadata": {},
   "outputs": [
    {
     "name": "stdout",
     "output_type": "stream",
     "text": [
      "120\n"
     ]
    }
   ],
   "source": [
    "# Solution :\n",
    "\n",
    "num = 5\n",
    "fact = 1\n",
    "\n",
    "for x in range(1,num+1):\n",
    "    fact *= x\n",
    "\n",
    "print(fact)"
   ]
  },
  {
   "cell_type": "markdown",
   "id": "97a031d6-c8ab-4470-9632-e4bb4b19c431",
   "metadata": {},
   "source": [
    "###"
   ]
  },
  {
   "cell_type": "markdown",
   "id": "6092d265-9c33-4fcf-9f38-0875c9f9b4f0",
   "metadata": {},
   "source": [
    "**12. Question:** What is the output of the following code?\n",
    "\n",
    "**Code:**\n",
    "\n",
    " numbers = [1, 2, 3, 4, 5]<br>\n",
    " print(list(reversed(numbers)))\n",
    "\n",
    "**Sample Output:**<br> \n",
    "\n",
    "[5, 4, 3, 2, 1]"
   ]
  },
  {
   "cell_type": "markdown",
   "id": "79f03d55-f9fe-46df-817c-9780682f0ce0",
   "metadata": {},
   "source": [
    "**Answer:**<br>\n",
    "[5,4,3,2,1]\n",
    "\n",
    "**Explaination:**<br>\n",
    "The reversed() methood will reverse the list element from -1 to -(len of the variable)<br>\n",
    "So here the elements are displayed in the reversed position.\n",
    "###"
   ]
  },
  {
   "cell_type": "markdown",
   "id": "bff6afa9-a0f8-4264-b617-537917523cbe",
   "metadata": {},
   "source": [
    "**13. Question:** Write a Python program to create a generator that yields the Fibonacci sequence up to the nth term.\n",
    "\n",
    "**Sample Input:** n = 10 <br>\n",
    "**Sample Output:** [0, 1, 1, 2, 3, 5, 8, 13, 21, 34]"
   ]
  },
  {
   "cell_type": "code",
   "execution_count": 81,
   "id": "1d55a756-8368-41e0-9ff1-b9c1ef33bd74",
   "metadata": {},
   "outputs": [
    {
     "name": "stdout",
     "output_type": "stream",
     "text": [
      "[0, 1, 1, 2, 3, 5, 8, 13, 21, 34]\n"
     ]
    }
   ],
   "source": [
    "# Solution :\n",
    "\n",
    "def fibo_generator(n):\n",
    "    a, b = 0, 1\n",
    "    for _ in range(n):\n",
    "        yield a\n",
    "        a, b = b, a + b\n",
    "\n",
    "n = 10\n",
    "fibo = list(fibo_generator(n))\n",
    "print(fibo)\n"
   ]
  },
  {
   "cell_type": "markdown",
   "id": "af78f63e-dbe8-430d-9237-269d309bc572",
   "metadata": {},
   "source": [
    "###"
   ]
  },
  {
   "cell_type": "markdown",
   "id": "ef10cb6d-2460-46d5-8656-6dc328182439",
   "metadata": {
    "jupyter": {
     "source_hidden": true
    }
   },
   "source": [
    "**14. Question:** What is the output of the following code?\n",
    "\n",
    "**Code:**\n",
    "\n",
    "  import math<br>\n",
    "  print(math.pi)\n",
    "\n",
    "**Sample Output:**\n",
    "\n",
    "3.14159..."
   ]
  },
  {
   "cell_type": "markdown",
   "id": "85b63a6c-9822-4465-a4e0-bcaf71cc718c",
   "metadata": {},
   "source": [
    "**Answer:**<br>\n",
    "3.14159...\n",
    "\n",
    "**Explaination:**<br>\n",
    "The math module contains list of mathemetical  function,we imported it in our program.<br>\n",
    "After we imported it, we displaying the value of \"pi\" from the math module. So the value of pi 3.14159... is displayed.\n",
    "###"
   ]
  },
  {
   "cell_type": "markdown",
   "id": "fde1d59b-5fe3-43ed-91ca-ba41ce1bd3b2",
   "metadata": {},
   "source": [
    "**15. Question:** Write a Python program to print the inverted star pyramid of height 5."
   ]
  },
  {
   "cell_type": "code",
   "execution_count": 82,
   "id": "0fbbfed5-78ed-44f4-9462-1d381cb62cb3",
   "metadata": {},
   "outputs": [
    {
     "name": "stdout",
     "output_type": "stream",
     "text": [
      "*********\n",
      " *******\n",
      "  *****\n",
      "   ***\n",
      "    *\n"
     ]
    }
   ],
   "source": [
    "# Solution :\n",
    "\n",
    "n = 5\n",
    "\n",
    "for i in range(n, 0, -1):\n",
    "        print(' ' * (n - i) + '*' * (2 * i - 1))"
   ]
  },
  {
   "cell_type": "markdown",
   "id": "fc177b29-7de5-4d2f-bb91-983b7abaa521",
   "metadata": {},
   "source": [
    "###\n",
    "---\n",
    "# Thanking You"
   ]
  }
 ],
 "metadata": {
  "kernelspec": {
   "display_name": "Python 3 (ipykernel)",
   "language": "python",
   "name": "python3"
  },
  "language_info": {
   "codemirror_mode": {
    "name": "ipython",
    "version": 3
   },
   "file_extension": ".py",
   "mimetype": "text/x-python",
   "name": "python",
   "nbconvert_exporter": "python",
   "pygments_lexer": "ipython3",
   "version": "3.12.7"
  }
 },
 "nbformat": 4,
 "nbformat_minor": 5
}
